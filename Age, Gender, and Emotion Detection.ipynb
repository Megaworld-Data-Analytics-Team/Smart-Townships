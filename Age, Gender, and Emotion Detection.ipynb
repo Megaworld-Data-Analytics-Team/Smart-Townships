{
 "cells": [
  {
   "cell_type": "markdown",
   "id": "1ec0560f",
   "metadata": {},
   "source": [
    "### Based on Cascade Classifiers paper"
   ]
  },
  {
   "cell_type": "markdown",
   "id": "444da491",
   "metadata": {},
   "source": [
    "### Dependencies\n",
    "Face and Eye Models by OpenCV:\n",
    "- https://github.com/opencv/opencv/blob/4.x/data/haarcascades/haarcascade_frontalface_default.xml\n",
    "- https://github.com/opencv/opencv/blob/4.x/data/haarcascades/haarcascade_eye.xml"
   ]
  },
  {
   "cell_type": "markdown",
   "id": "b5276b73",
   "metadata": {},
   "source": [
    "### Import Libraries"
   ]
  },
  {
   "cell_type": "code",
   "execution_count": 1,
   "id": "87183e1d",
   "metadata": {},
   "outputs": [],
   "source": [
    "import cv2\n",
    "import numpy as np\n",
    "import matplotlib.pyplot as plt\n",
    "\n",
    "from keras.models import load_model\n",
    "from keras.preprocessing.image import img_to_array\n",
    "from keras.preprocessing import image"
   ]
  },
  {
   "cell_type": "markdown",
   "id": "0d4aac7e",
   "metadata": {},
   "source": [
    "### Get the Models"
   ]
  },
  {
   "cell_type": "code",
   "execution_count": 2,
   "id": "4675d10b",
   "metadata": {},
   "outputs": [],
   "source": [
    "face_model = cv2.CascadeClassifier('haarcascade_frontalface_default.xml')\n",
    "emotion_model = load_model('facial_emotion_detection_model_50E.h5')\n",
    "age_model = load_model('age_model_50E.h5')\n",
    "gender_model = load_model('gender_model_50E.h5')"
   ]
  },
  {
   "cell_type": "code",
   "execution_count": 3,
   "id": "68086a0c",
   "metadata": {},
   "outputs": [],
   "source": [
    "## Define Labels\n",
    "emotion_labels = ['Angry', 'Disgust', 'Fear', 'Happy', 'Neutral', 'Sad', 'Surprise']\n",
    "gender_labels = [\"Male\", \"Female\"]"
   ]
  },
  {
   "cell_type": "markdown",
   "id": "8e144503",
   "metadata": {},
   "source": [
    "### Implemented Using Video Capture\n",
    "Functions similarly when using image. Only differs in implementing video capture in OpenCV."
   ]
  },
  {
   "cell_type": "code",
   "execution_count": 4,
   "id": "fb839826",
   "metadata": {},
   "outputs": [],
   "source": [
    "video = cv2.VideoCapture(0) #initialize video capturing\n",
    "\n",
    "while True:\n",
    "    ret, img = video.read()\n",
    "    \n",
    "    labels = []\n",
    "    \n",
    "    img_gray = cv2.cvtColor(img, cv2.COLOR_BGR2GRAY) #convert image read to grayscale\n",
    "    faces = face_model.detectMultiScale(img_gray, 1.3, 5) #allows face detection despite movement of face\n",
    "    \n",
    "    #x,y,w,h change for every movement of the face\n",
    "    for (x,y,w,h) in faces:\n",
    "        emotion_color = (0, 0, 0)\n",
    "        gender_color = (0, 0, 0)\n",
    "        cv2.rectangle(img,(x,y),(x+w,y+h),(0,0,255),2) #draw a rectangle\n",
    "        #Get Face ROI\n",
    "        roi_gray = img_gray[y:(y+h), x:(x+w)] #Selects only the detected face\n",
    "        roi_gray = cv2.resize(roi_gray, (48,48), interpolation=cv2.INTER_AREA) #emotion detection model has 48x48 training\n",
    "        \n",
    "        roi = roi_gray.astype('float') / 255.0 #normalize by scaling values to between 0 and 1\n",
    "        roi = img_to_array(roi) #convert to array for processing\n",
    "        roi = np.expand_dims(roi, axis=0) #expand dimensions for proper prediction (N,W,H,C)\n",
    "        roi_color = img[y:y+h, x:x+w]\n",
    "        roi_color = cv2.resize(roi_color, (48,48), interpolation=cv2.INTER_AREA)\n",
    "        \n",
    "        #Emotion Prediction\n",
    "        emotion_predict = emotion_model.predict(roi)[0]\n",
    "        emotion_label = emotion_labels[emotion_predict.argmax()]\n",
    "        if emotion_label == 'Happy' or emotion_label == 'Surprise':\n",
    "            emotion_color = (0, 255, 0)\n",
    "        elif emotion_label == 'Neutral':\n",
    "            emotion_color = (255, 0, 0)\n",
    "        else:\n",
    "            emotion_color = (0, 0, 255)\n",
    "        emotion_label_pos = (x, y) #position of the emotion label relative to the bounding box\n",
    "        cv2.putText(img, emotion_label, emotion_label_pos, cv2.FONT_HERSHEY_SIMPLEX, 1, emotion_color, 2)\n",
    "        \n",
    "        #Age Prediction\n",
    "        age_predict = age_model.predict(np.array(roi_color).reshape(-1,48,48,3))\n",
    "        age_label = round(age_predict[0,0])\n",
    "        age_label_pos = (x,y-100)\n",
    "        cv2.putText(img, \"Age: \" + str(age_label), age_label_pos, cv2.FONT_HERSHEY_SIMPLEX, 1, (255, 0, 0), 2)\n",
    "        \n",
    "        #Gender Prediction\n",
    "        gender_predict = gender_model.predict(np.array(roi_color).reshape(-1,48,48,3))\n",
    "        gender_predict = (gender_predict >= 0.5).astype(int)[:,0]\n",
    "        gender_label = gender_labels[gender_predict[0]]\n",
    "        if gender_label == \"Male\":\n",
    "            gender_color = (255, 0, 0)\n",
    "        elif gender_label == \"Female\":\n",
    "            gender_color = (0, 0, 255)\n",
    "        gender_label_pos = (x,y-50)\n",
    "        cv2.putText(img, \"Sex: \" + str(gender_label), gender_label_pos, cv2.FONT_HERSHEY_SIMPLEX, 1, gender_color, 2)\n",
    "        \n",
    "    cv2.imshow('img', img)\n",
    "    k = cv2.waitKey(30) & 0xFF\n",
    "    if k == 27: #ESC to end\n",
    "        break\n",
    "\n",
    "video.release() #end video capturing\n",
    "cv2.destroyAllWindows()"
   ]
  },
  {
   "cell_type": "code",
   "execution_count": null,
   "id": "88e3a208",
   "metadata": {},
   "outputs": [],
   "source": []
  }
 ],
 "metadata": {
  "kernelspec": {
   "display_name": "Python 3 (ipykernel)",
   "language": "python",
   "name": "python3"
  },
  "language_info": {
   "codemirror_mode": {
    "name": "ipython",
    "version": 3
   },
   "file_extension": ".py",
   "mimetype": "text/x-python",
   "name": "python",
   "nbconvert_exporter": "python",
   "pygments_lexer": "ipython3",
   "version": "3.9.7"
  }
 },
 "nbformat": 4,
 "nbformat_minor": 5
}
