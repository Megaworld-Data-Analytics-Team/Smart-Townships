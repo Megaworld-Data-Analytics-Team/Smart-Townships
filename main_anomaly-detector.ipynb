{
 "cells": [
  {
   "cell_type": "markdown",
   "id": "49e61f58",
   "metadata": {},
   "source": [
    "### Import Libraries"
   ]
  },
  {
   "cell_type": "code",
   "execution_count": 1,
   "id": "92d326bd",
   "metadata": {},
   "outputs": [],
   "source": [
    "import pandas as pd\n",
    "import numpy as np\n",
    "import matplotlib.pyplot as plt\n",
    "import seaborn as sns\n",
    "import os\n",
    "\n",
    "import tensorflow as tf\n",
    "from tensorflow.keras.preprocessing.image import load_img, img_to_array, ImageDataGenerator\n",
    "import cv2\n",
    "\n",
    "from IPython.display import clear_output\n",
    "from PIL import Image\n",
    "import warnings\n",
    "warnings.filterwarnings('ignore')"
   ]
  },
  {
   "cell_type": "markdown",
   "id": "a7779053",
   "metadata": {},
   "source": [
    "### Load Model"
   ]
  },
  {
   "cell_type": "code",
   "execution_count": 2,
   "id": "9ec3f208",
   "metadata": {},
   "outputs": [],
   "source": [
    "model = tf.keras.models.load_model('./video_anomaly_classifier_20-EPOCHS_SGD/')"
   ]
  },
  {
   "cell_type": "code",
   "execution_count": 3,
   "id": "b06c0155",
   "metadata": {},
   "outputs": [],
   "source": [
    "NUM_CLASSES = 14\n",
    "CLASS_LABELS = ['Abuse','Arrest','Arson','Assault','Burglary','Explosion','Fighting',\"Normal\",'RoadAccidents','Robbery','Shooting','Shoplifting','Stealing','Vandalism']"
   ]
  },
  {
   "cell_type": "markdown",
   "id": "db0ecd74",
   "metadata": {},
   "source": [
    "### Predict Using Videos"
   ]
  },
  {
   "cell_type": "code",
   "execution_count": 4,
   "id": "f7625afc",
   "metadata": {},
   "outputs": [],
   "source": [
    "IMAGE_HEIGHT = 64\n",
    "IMAGE_WIDTH = 64\n",
    "BATCH_SIZE = 1\n",
    "SEED = 12"
   ]
  },
  {
   "cell_type": "code",
   "execution_count": 10,
   "id": "76b691e8",
   "metadata": {},
   "outputs": [
    {
     "data": {
      "text/plain": [
       "-1"
      ]
     },
     "execution_count": 10,
     "metadata": {},
     "output_type": "execute_result"
    }
   ],
   "source": [
    "video_path = './data/video/accidents/accident_1.mp4'\n",
    "video = cv2.VideoCapture(video_path)\n",
    "\n",
    "while True:\n",
    "    \n",
    "    ret, frame = video.read()\n",
    "    \n",
    "    if frame is None: #if reaches the end of the video and there is no more image\n",
    "        print('Completed!')\n",
    "        break\n",
    "    \n",
    "    # preprocess frame\n",
    "    frame_input = cv2.cvtColor(frame, cv2.COLOR_BGR2RGB)\n",
    "    frame_input = cv2.resize(frame_input, (IMAGE_HEIGHT,IMAGE_WIDTH), interpolation=cv2.INTER_AREA)\n",
    "    frame_input = tf.keras.applications.densenet.preprocess_input(frame_input)\n",
    "    frame_input = frame_input.astype('float') / 255.0 #normalize by scaling values to between 0 and 1\n",
    "    frame_input = np.expand_dims(frame_input, axis=0)\n",
    "    \n",
    "    prediction = model.predict(frame_input)\n",
    "    predicted_class = CLASS_LABELS[np.argmax(prediction)]\n",
    "    prediction_score = prediction[0][np.argmax(prediction)]\n",
    "\n",
    "    if prediction_score > 0.8:\n",
    "        cv2.putText(frame, \"{} {:.2f}\".format(predicted_class, prediction_score), (0,30), 0, 1, (255,255,255), 2)\n",
    "    \n",
    "    cv2.imshow('video', frame)\n",
    "    \n",
    "    if cv2.waitKey(30) & 0xFF == ord('q'): #press Q to quit video\n",
    "        break\n",
    "\n",
    "video.release() #end video capturing\n",
    "cv2.destroyAllWindows()\n",
    "cv2.waitKey(1)"
   ]
  },
  {
   "cell_type": "code",
   "execution_count": null,
   "id": "fdc18351",
   "metadata": {},
   "outputs": [],
   "source": []
  }
 ],
 "metadata": {
  "kernelspec": {
   "display_name": "Python 3",
   "language": "python",
   "name": "python3"
  },
  "language_info": {
   "codemirror_mode": {
    "name": "ipython",
    "version": 3
   },
   "file_extension": ".py",
   "mimetype": "text/x-python",
   "name": "python",
   "nbconvert_exporter": "python",
   "pygments_lexer": "ipython3",
   "version": "3.9.7"
  }
 },
 "nbformat": 4,
 "nbformat_minor": 5
}
