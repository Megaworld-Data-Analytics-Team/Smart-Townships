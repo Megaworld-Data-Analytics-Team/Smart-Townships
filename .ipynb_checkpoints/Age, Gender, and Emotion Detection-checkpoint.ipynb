{
 "cells": [
  {
   "cell_type": "markdown",
   "id": "1ec0560f",
   "metadata": {},
   "source": [
    "### Based on Cascade Classifiers paper"
   ]
  },
  {
   "cell_type": "markdown",
   "id": "444da491",
   "metadata": {},
   "source": [
    "### Dependencies\n",
    "Face and Eye Models by OpenCV:\n",
    "- https://github.com/opencv/opencv/blob/4.x/data/haarcascades/haarcascade_frontalface_default.xml\n",
    "- https://github.com/opencv/opencv/blob/4.x/data/haarcascades/haarcascade_eye.xml"
   ]
  },
  {
   "cell_type": "markdown",
   "id": "b5276b73",
   "metadata": {},
   "source": [
    "### Import Libraries"
   ]
  },
  {
   "cell_type": "code",
   "execution_count": 1,
   "id": "87183e1d",
   "metadata": {},
   "outputs": [],
   "source": [
    "import cv2\n",
    "import numpy as np\n",
    "import matplotlib.pyplot as plt\n",
    "\n",
    "from keras.models import load_model\n",
    "from keras.preprocessing.image import img_to_array\n",
    "from keras.preprocessing import image"
   ]
  },
  {
   "cell_type": "markdown",
   "id": "0d4aac7e",
   "metadata": {},
   "source": [
    "### Get the Models"
   ]
  },
  {
   "cell_type": "code",
   "execution_count": 2,
   "id": "4675d10b",
   "metadata": {},
   "outputs": [
    {
     "ename": "OSError",
     "evalue": "No file or directory found at facial_emotion_detection_model_50E.h5",
     "output_type": "error",
     "traceback": [
      "\u001b[1;31m---------------------------------------------------------------------------\u001b[0m",
      "\u001b[1;31mOSError\u001b[0m                                   Traceback (most recent call last)",
      "\u001b[1;32m~\\AppData\\Local\\Temp/ipykernel_21640/4173192874.py\u001b[0m in \u001b[0;36m<module>\u001b[1;34m\u001b[0m\n\u001b[0;32m      1\u001b[0m \u001b[0mface_model\u001b[0m \u001b[1;33m=\u001b[0m \u001b[0mcv2\u001b[0m\u001b[1;33m.\u001b[0m\u001b[0mCascadeClassifier\u001b[0m\u001b[1;33m(\u001b[0m\u001b[1;34m'haarcascade_frontalface_default.xml'\u001b[0m\u001b[1;33m)\u001b[0m\u001b[1;33m\u001b[0m\u001b[1;33m\u001b[0m\u001b[0m\n\u001b[1;32m----> 2\u001b[1;33m \u001b[0memotion_model\u001b[0m \u001b[1;33m=\u001b[0m \u001b[0mload_model\u001b[0m\u001b[1;33m(\u001b[0m\u001b[1;34m'facial_emotion_detection_model_50E.h5'\u001b[0m\u001b[1;33m)\u001b[0m\u001b[1;33m\u001b[0m\u001b[1;33m\u001b[0m\u001b[0m\n\u001b[0m\u001b[0;32m      3\u001b[0m \u001b[0mage_model\u001b[0m \u001b[1;33m=\u001b[0m \u001b[0mload_model\u001b[0m\u001b[1;33m(\u001b[0m\u001b[1;34m'age_model_50E.h5'\u001b[0m\u001b[1;33m)\u001b[0m\u001b[1;33m\u001b[0m\u001b[1;33m\u001b[0m\u001b[0m\n\u001b[0;32m      4\u001b[0m \u001b[0mgender_model\u001b[0m \u001b[1;33m=\u001b[0m \u001b[0mload_model\u001b[0m\u001b[1;33m(\u001b[0m\u001b[1;34m'gender_model_50E.h5'\u001b[0m\u001b[1;33m)\u001b[0m\u001b[1;33m\u001b[0m\u001b[1;33m\u001b[0m\u001b[0m\n",
      "\u001b[1;32mD:\\ProgramData\\Anaconda3\\lib\\site-packages\\keras\\utils\\traceback_utils.py\u001b[0m in \u001b[0;36merror_handler\u001b[1;34m(*args, **kwargs)\u001b[0m\n\u001b[0;32m     65\u001b[0m     \u001b[1;32mexcept\u001b[0m \u001b[0mException\u001b[0m \u001b[1;32mas\u001b[0m \u001b[0me\u001b[0m\u001b[1;33m:\u001b[0m  \u001b[1;31m# pylint: disable=broad-except\u001b[0m\u001b[1;33m\u001b[0m\u001b[1;33m\u001b[0m\u001b[0m\n\u001b[0;32m     66\u001b[0m       \u001b[0mfiltered_tb\u001b[0m \u001b[1;33m=\u001b[0m \u001b[0m_process_traceback_frames\u001b[0m\u001b[1;33m(\u001b[0m\u001b[0me\u001b[0m\u001b[1;33m.\u001b[0m\u001b[0m__traceback__\u001b[0m\u001b[1;33m)\u001b[0m\u001b[1;33m\u001b[0m\u001b[1;33m\u001b[0m\u001b[0m\n\u001b[1;32m---> 67\u001b[1;33m       \u001b[1;32mraise\u001b[0m \u001b[0me\u001b[0m\u001b[1;33m.\u001b[0m\u001b[0mwith_traceback\u001b[0m\u001b[1;33m(\u001b[0m\u001b[0mfiltered_tb\u001b[0m\u001b[1;33m)\u001b[0m \u001b[1;32mfrom\u001b[0m \u001b[1;32mNone\u001b[0m\u001b[1;33m\u001b[0m\u001b[1;33m\u001b[0m\u001b[0m\n\u001b[0m\u001b[0;32m     68\u001b[0m     \u001b[1;32mfinally\u001b[0m\u001b[1;33m:\u001b[0m\u001b[1;33m\u001b[0m\u001b[1;33m\u001b[0m\u001b[0m\n\u001b[0;32m     69\u001b[0m       \u001b[1;32mdel\u001b[0m \u001b[0mfiltered_tb\u001b[0m\u001b[1;33m\u001b[0m\u001b[1;33m\u001b[0m\u001b[0m\n",
      "\u001b[1;32mD:\\ProgramData\\Anaconda3\\lib\\site-packages\\keras\\saving\\save.py\u001b[0m in \u001b[0;36mload_model\u001b[1;34m(filepath, custom_objects, compile, options)\u001b[0m\n\u001b[0;32m    202\u001b[0m         \u001b[1;32mif\u001b[0m \u001b[0misinstance\u001b[0m\u001b[1;33m(\u001b[0m\u001b[0mfilepath_str\u001b[0m\u001b[1;33m,\u001b[0m \u001b[0mstr\u001b[0m\u001b[1;33m)\u001b[0m\u001b[1;33m:\u001b[0m\u001b[1;33m\u001b[0m\u001b[1;33m\u001b[0m\u001b[0m\n\u001b[0;32m    203\u001b[0m           \u001b[1;32mif\u001b[0m \u001b[1;32mnot\u001b[0m \u001b[0mtf\u001b[0m\u001b[1;33m.\u001b[0m\u001b[0mio\u001b[0m\u001b[1;33m.\u001b[0m\u001b[0mgfile\u001b[0m\u001b[1;33m.\u001b[0m\u001b[0mexists\u001b[0m\u001b[1;33m(\u001b[0m\u001b[0mfilepath_str\u001b[0m\u001b[1;33m)\u001b[0m\u001b[1;33m:\u001b[0m\u001b[1;33m\u001b[0m\u001b[1;33m\u001b[0m\u001b[0m\n\u001b[1;32m--> 204\u001b[1;33m             \u001b[1;32mraise\u001b[0m \u001b[0mIOError\u001b[0m\u001b[1;33m(\u001b[0m\u001b[1;34mf'No file or directory found at {filepath_str}'\u001b[0m\u001b[1;33m)\u001b[0m\u001b[1;33m\u001b[0m\u001b[1;33m\u001b[0m\u001b[0m\n\u001b[0m\u001b[0;32m    205\u001b[0m \u001b[1;33m\u001b[0m\u001b[0m\n\u001b[0;32m    206\u001b[0m           \u001b[1;32mif\u001b[0m \u001b[0mtf\u001b[0m\u001b[1;33m.\u001b[0m\u001b[0mio\u001b[0m\u001b[1;33m.\u001b[0m\u001b[0mgfile\u001b[0m\u001b[1;33m.\u001b[0m\u001b[0misdir\u001b[0m\u001b[1;33m(\u001b[0m\u001b[0mfilepath_str\u001b[0m\u001b[1;33m)\u001b[0m\u001b[1;33m:\u001b[0m\u001b[1;33m\u001b[0m\u001b[1;33m\u001b[0m\u001b[0m\n",
      "\u001b[1;31mOSError\u001b[0m: No file or directory found at facial_emotion_detection_model_50E.h5"
     ]
    }
   ],
   "source": [
    "face_model = cv2.CascadeClassifier('haarcascade_frontalface_default.xml')\n",
    "emotion_model = load_model('facial_emotion_detection_model_50E.h5')\n",
    "age_model = load_model('age_model_50E.h5')\n",
    "gender_model = load_model('gender_model_50E.h5')"
   ]
  },
  {
   "cell_type": "code",
   "execution_count": null,
   "id": "68086a0c",
   "metadata": {},
   "outputs": [],
   "source": [
    "## Define Labels\n",
    "emotion_labels = ['Angry', 'Disgust', 'Fear', 'Happy', 'Neutral', 'Sad', 'Surprise']\n",
    "gender_labels = [\"Male\", \"Female\"]"
   ]
  },
  {
   "cell_type": "markdown",
   "id": "8e144503",
   "metadata": {},
   "source": [
    "### Implemented Using Video Capture\n",
    "Functions similarly when using image. Only differs in implementing video capture in OpenCV."
   ]
  },
  {
   "cell_type": "code",
   "execution_count": null,
   "id": "fb839826",
   "metadata": {},
   "outputs": [],
   "source": [
    "video = cv2.VideoCapture(0) #initialize video capturing\n",
    "\n",
    "while True:\n",
    "    ret, img = video.read()\n",
    "    \n",
    "    labels = []\n",
    "    \n",
    "    img_gray = cv2.cvtColor(img, cv2.COLOR_BGR2GRAY) #convert image read to grayscale\n",
    "    faces = face_model.detectMultiScale(img_gray, 1.3, 5) #allows face detection despite movement of face\n",
    "    \n",
    "    #x,y,w,h change for every movement of the face\n",
    "    for (x,y,w,h) in faces:\n",
    "        emotion_color = (0, 0, 0)\n",
    "        gender_color = (0, 0, 0)\n",
    "        cv2.rectangle(img,(x,y),(x+w,y+h),(0,0,255),2) #draw a rectangle\n",
    "        print(w,h)\n",
    "        #Get Face ROI\n",
    "        roi_gray = img_gray[y:(y+h), x:(x+w)] #Selects only the detected face\n",
    "        roi_gray = cv2.resize(roi_gray, (48,48), interpolation=cv2.INTER_AREA) #emotion detection model has 48x48 training\n",
    "        \n",
    "        roi = roi_gray.astype('float') / 255.0 #normalize by scaling values to between 0 and 1\n",
    "        roi = img_to_array(roi) #convert to array for processing\n",
    "        roi = np.expand_dims(roi, axis=0) #expand dimensions for proper prediction (N,W,H,C)\n",
    "        roi_color = img[y:y+h, x:x+w]\n",
    "        roi_color = cv2.resize(roi_color, (48,48), interpolation=cv2.INTER_AREA)\n",
    "        \n",
    "        #Emotion Prediction\n",
    "        emotion_predict = emotion_model.predict(roi)[0]\n",
    "        emotion_label = emotion_labels[emotion_predict.argmax()]\n",
    "        if emotion_label == 'Happy' or emotion_label == 'Surprise':\n",
    "            emotion_color = (0, 255, 0)\n",
    "        elif emotion_label == 'Neutral':\n",
    "            emotion_color = (255, 0, 0)\n",
    "        else:\n",
    "            emotion_color = (0, 0, 255)\n",
    "        emotion_label_pos = (x, y) #position of the emotion label relative to the bounding box\n",
    "        cv2.putText(img, emotion_label, emotion_label_pos, cv2.FONT_HERSHEY_SIMPLEX, 1, emotion_color, 2)\n",
    "        \n",
    "        #Age Prediction\n",
    "        age_predict = age_model.predict(np.array(roi_color).reshape(-1,48,48,3))\n",
    "        age_label = round(age_predict[0,0])\n",
    "        age_label_pos = (x,y-100)\n",
    "        cv2.putText(img, \"Age: \" + str(age_label), age_label_pos, cv2.FONT_HERSHEY_SIMPLEX, 1, (255, 0, 0), 2)\n",
    "        \n",
    "        #Gender Prediction\n",
    "        gender_predict = gender_model.predict(np.array(roi_color).reshape(-1,48,48,3))\n",
    "        gender_predict = (gender_predict >= 0.5).astype(int)[:,0]\n",
    "        gender_label = gender_labels[gender_predict[0]]\n",
    "        if gender_label == \"Male\":\n",
    "            gender_color = (255, 0, 0)\n",
    "        elif gender_label == \"Female\":\n",
    "            gender_color = (0, 0, 255)\n",
    "        gender_label_pos = (x,y-50)\n",
    "        cv2.putText(img, \"Sex: \" + str(gender_label), gender_label_pos, cv2.FONT_HERSHEY_SIMPLEX, 1, gender_color, 2)\n",
    "        \n",
    "    cv2.imshow('img', img)\n",
    "    k = cv2.waitKey(30) & 0xFF\n",
    "    if k == 27: #ESC to end\n",
    "        break\n",
    "\n",
    "video.release() #end video capturing\n",
    "cv2.destroyAllWindows()"
   ]
  },
  {
   "cell_type": "code",
   "execution_count": null,
   "id": "88e3a208",
   "metadata": {},
   "outputs": [],
   "source": []
  }
 ],
 "metadata": {
  "kernelspec": {
   "display_name": "Python 3 (ipykernel)",
   "language": "python",
   "name": "python3"
  },
  "language_info": {
   "codemirror_mode": {
    "name": "ipython",
    "version": 3
   },
   "file_extension": ".py",
   "mimetype": "text/x-python",
   "name": "python",
   "nbconvert_exporter": "python",
   "pygments_lexer": "ipython3",
   "version": "3.9.7"
  }
 },
 "nbformat": 4,
 "nbformat_minor": 5
}
