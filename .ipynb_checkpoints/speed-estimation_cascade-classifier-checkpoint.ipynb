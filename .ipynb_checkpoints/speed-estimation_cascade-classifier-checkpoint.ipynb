{
 "cells": [
  {
   "cell_type": "markdown",
   "id": "bf71d4f1",
   "metadata": {},
   "source": [
    "## Program to Estimate the Speed of Vehicles after it passes through a Region of Interest\n",
    "Speed = Distance/Time"
   ]
  },
  {
   "cell_type": "markdown",
   "id": "bd511574",
   "metadata": {},
   "source": [
    "### Import OpenCV and Other Necessary Libraries"
   ]
  },
  {
   "cell_type": "code",
   "execution_count": 1,
   "id": "a219c1b0",
   "metadata": {},
   "outputs": [],
   "source": [
    "import cv2\n",
    "import time"
   ]
  },
  {
   "cell_type": "markdown",
   "id": "d4d2c995",
   "metadata": {},
   "source": [
    "### Load Model"
   ]
  },
  {
   "cell_type": "code",
   "execution_count": 2,
   "id": "c74b5b5a",
   "metadata": {},
   "outputs": [],
   "source": [
    "car_model = cv2.CascadeClassifier('cars.xml')"
   ]
  },
  {
   "cell_type": "markdown",
   "id": "8db427f9",
   "metadata": {},
   "source": [
    "### Define Coordinates of Detection Zone"
   ]
  },
  {
   "cell_type": "code",
   "execution_count": 3,
   "id": "e76e053a",
   "metadata": {},
   "outputs": [],
   "source": [
    "#Coordinates of polygon in frame\n",
    "coord = [ [400,400], [1000,400], [600,600], [1500,600] ]\n",
    "\n",
    "#Distance between Start Point and End Point\n",
    "dist = 2"
   ]
  },
  {
   "cell_type": "markdown",
   "id": "daed2c10",
   "metadata": {},
   "source": [
    "### Detect Speed Using Video"
   ]
  },
  {
   "cell_type": "code",
   "execution_count": 4,
   "id": "32043afa",
   "metadata": {},
   "outputs": [],
   "source": [
    "#Initialize Video Capture\n",
    "vid = cv2.VideoCapture('./data/video/cars.mp4')\n",
    "\n",
    "#Video Capturing\n",
    "while True:\n",
    "    ret, frame = vid.read() #reads a frame\n",
    "    \n",
    "    if frame is None: #if reaches the end of the video and there is no more image\n",
    "        print('Completed!')\n",
    "        break\n",
    "    \n",
    "    #input to model\n",
    "    gray_frame = cv2.cvtColor(frame, cv2.COLOR_BGR2GRAY) #Convert BGR frame to Grayscale\n",
    "    cars = car_model.detectMultiScale(gray_frame, 1.8, 2) #get prediction coordinates (x,y,w,h)\n",
    "    \n",
    "    #create bounding box for every detected car\n",
    "    for (x, y, w, h) in cars:\n",
    "        cv2.rectangle(frame, (x,y), (x+w,y+h), (255,0,0),2)\n",
    "        \n",
    "    #draw speed detection zone\n",
    "    cv2.line(frame, (coord[0][0],coord[0][1]), (coord[1][0],coord[1][1]), (0,0,255), 2) #top line\n",
    "    cv2.line(frame, (coord[0][0],coord[0][1]), (coord[2][0],coord[2][1]), (0,0,255), 2) #left line\n",
    "    cv2.line(frame, (coord[2][0],coord[2][1]), (coord[3][0],coord[3][1]), (0,0,255), 2) #bottom line\n",
    "    cv2.line(frame, (coord[1][0],coord[1][1]), (coord[3][0],coord[3][1]), (0,0,255), 2) #right line\n",
    "    \n",
    "    #Speed Detection\n",
    "    for (x, y, w, h) in cars:\n",
    "        #if car entered the detection zone\n",
    "        if (x >= coord[0][0] and y==coord[0][1]):\n",
    "            cv2.line(frame, (coord[0][0],coord[0][1]), (coord[1][0],coord[1][1]), (0,255,0), 2) #change line color, indicating entry\n",
    "            t1 = time.time() #start timer\n",
    "        \n",
    "        #if car exited the detection zone\n",
    "        if (x >= coord[2][0] and y==coord[2][1]):\n",
    "            cv2.line(frame, (coord[2][0],coord[2][1]), (coord[3][0],coord[3][1]), (0,0,255), 2)\n",
    "            t2 = time.time() #end timer\n",
    "            cv2.putText(frame, \"{} m/s\".format(dist(t2-t1)), (x,y), cv2.FONT_HERSHEY_SIMPLEX, 1, (0,0,255), 2)\n",
    "            \n",
    "    #show frame\n",
    "    cv2.imshow('speed', frame)\n",
    "    \n",
    "    if cv2.waitKey(30) & 0xFF == ord('q'): #press Q to quit\n",
    "        break\n",
    "        \n",
    "vid.release()\n",
    "cv2.destroyAllWindows()"
   ]
  },
  {
   "cell_type": "code",
   "execution_count": null,
   "id": "1e7475a4",
   "metadata": {},
   "outputs": [],
   "source": []
  }
 ],
 "metadata": {
  "kernelspec": {
   "display_name": "Python 3 (ipykernel)",
   "language": "python",
   "name": "python3"
  },
  "language_info": {
   "codemirror_mode": {
    "name": "ipython",
    "version": 3
   },
   "file_extension": ".py",
   "mimetype": "text/x-python",
   "name": "python",
   "nbconvert_exporter": "python",
   "pygments_lexer": "ipython3",
   "version": "3.9.7"
  }
 },
 "nbformat": 4,
 "nbformat_minor": 5
}
