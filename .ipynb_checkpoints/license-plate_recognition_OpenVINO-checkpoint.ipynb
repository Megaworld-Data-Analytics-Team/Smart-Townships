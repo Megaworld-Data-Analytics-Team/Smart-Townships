{
 "cells": [
  {
   "cell_type": "markdown",
   "id": "723bbddf",
   "metadata": {},
   "source": [
    "## Program to Detect and Identify License Plates of Cars"
   ]
  },
  {
   "cell_type": "markdown",
   "id": "cfe52bdc",
   "metadata": {},
   "source": [
    "### Import Libraries"
   ]
  },
  {
   "cell_type": "code",
   "execution_count": 1,
   "id": "64621115",
   "metadata": {},
   "outputs": [],
   "source": [
    "import numpy as np\n",
    "import cv2\n",
    "import imutils\n",
    "from imutils import paths\n",
    "from openvino.runtime import Core"
   ]
  },
  {
   "cell_type": "markdown",
   "id": "371bf092",
   "metadata": {},
   "source": [
    "### Define Variables"
   ]
  },
  {
   "cell_type": "code",
   "execution_count": 2,
   "id": "1d43a5e6",
   "metadata": {},
   "outputs": [],
   "source": [
    "bShowColor = False\n",
    "\n",
    "FRAME_WIDTH = 0\n",
    "FRAME_HEIGHT = 0\n",
    "\n",
    "vColor = (0,255,0) # color of vehicle bbox and information\n",
    "pColor = (0,0,255) # color of plate bbox and information\n",
    "rectThickness = 2"
   ]
  },
  {
   "cell_type": "code",
   "execution_count": 3,
   "id": "1dfcf278",
   "metadata": {},
   "outputs": [],
   "source": [
    "#characters in plate number\n",
    "items = [\"0\", \"1\", \"2\", \"3\", \"4\", \"5\", \"6\", \"7\", \"8\", \"9\",\n",
    "         \"A\", \"B\", \"C\", \"D\", \"E\", \"F\", \"G\", \"H\", \"I\", \"J\",\n",
    "         \"K\", \"L\", \"M\", \"N\", \"O\", \"P\", \"Q\", \"R\", \"S\", \"T\",\n",
    "         \"U\", \"V\", \"W\", \"X\", \"Y\", \"Z\"]\n",
    "\n",
    "# car colors and types\n",
    "VEHICLE_COLORS = [\"white\", \"gray\", \"yellow\", \"red\", \"green\", \"blue\", \"black\"]\n",
    "VEHICLE_TYPES = [\"car\", \"bus\", \"truck\", \"van\"]"
   ]
  },
  {
   "cell_type": "code",
   "execution_count": 4,
   "id": "6c61337a",
   "metadata": {},
   "outputs": [],
   "source": [
    "seq_ind = np.ones([88, 1], dtype=np.float32)\n",
    "seq_ind[0, 0] = 0"
   ]
  },
  {
   "cell_type": "markdown",
   "id": "507412a5",
   "metadata": {},
   "source": [
    "### Load Models"
   ]
  },
  {
   "cell_type": "code",
   "execution_count": 5,
   "id": "7cdaa174",
   "metadata": {},
   "outputs": [
    {
     "name": "stdout",
     "output_type": "stream",
     "text": [
      "{1, 300, 300, 3}\n",
      "Height: 300, Width: 300\n"
     ]
    }
   ],
   "source": [
    "# License Plate Detection\n",
    "lpd_model_path = \"c:/Users/Lenard/intel/vehicle-license-plate-detection-barrier-0106/FP16/vehicle-license-plate-detection-barrier-0106.xml\"\n",
    "\n",
    "#initialize inference engine\n",
    "ie = Core()\n",
    "#read the network and corresponding weights from file\n",
    "detector = ie.read_model(model=lpd_model_path)\n",
    "\n",
    "#compile the model for the CPU (you may also use GPU, MYRIAD, etc.)\n",
    "#or let the engine choose the available device (AUTO)\n",
    "compiled_model = ie.compile_model(model=detector, device_name=\"GPU\")\n",
    "\n",
    "#get input and output nodes\n",
    "input_layer = compiled_model.input(0)\n",
    "output_layer = compiled_model.output(0)\n",
    "\n",
    "#get input size\n",
    "print(input_layer.shape)\n",
    "height, width = list(input_layer.shape)[1:3]\n",
    "print(\"Height: {}, Width: {}\".format(height,width))\n",
    "\n",
    "# lpd_model = cv2.dnn.readNet(lpd_model_path + \".bin\", lpd_model_path + \".xml\")\n",
    "# lpd_model.setPreferableBackend(cv2.dnn.DNN_BACKEND_INFERENCE_ENGINE)\n",
    "# lpd_model.setPreferrableTarget(cv2.dnn.DNN_TARGET_CPU)\n",
    "\n",
    "\n",
    "# License Plate Recognition\n",
    "# lpr_model_path = \"c:/Users/Lenard/intel/license-plate-recognition-barrier-0001/FP16/license-plate-recognition-barrier-0001\"\n",
    "\n",
    "# lpr_model = cv2.dnn.readNet(lpr_model_path + \".bin\", lpr_model_path + \".xml\")\n",
    "# lpr_model.setPreferableBackend(cv2.dnn.DNN_BACKEND_INFERENCE_ENGINE)\n",
    "# lpr_model.setPreferrableTarget(cv2.dnn.DNN_TARGET_CPU)\n",
    "\n",
    "\n",
    "# # Vehicle Attributes Recognition\n",
    "# var_model_path = \"c:/Users/Lenard/intel/vehicle-attributes-recognition-barrier-0039/FP16/vehicle-attributes-recognition-barrier-0039\"\n",
    "\n",
    "# var_model = cv2.dnn.readNet(var_model_path + \".bin\", var_model_path + \".xml\")\n",
    "# var_model.setPreferableBackend(cv2.dnn.DNN_BACKEND_INFERENCE_ENGINE)\n",
    "# var_model.setPreferrableTarget(cv2.dnn.DNN_TARGET_CPU)"
   ]
  },
  {
   "cell_type": "markdown",
   "id": "df1eab89",
   "metadata": {},
   "source": [
    "### Processing Results"
   ]
  },
  {
   "cell_type": "code",
   "execution_count": 6,
   "id": "3f07ef7e",
   "metadata": {},
   "outputs": [],
   "source": [
    "#classes of person-vehicle-bike-detection-crossroad-0078\n",
    "classes = [\"vehicle\", \"license plate\"]\n",
    "\n",
    "#map corresponding colors to classes\n",
    "colors = cv2.applyColorMap(\n",
    "    src = np.arange(0, 255, 255 / len(classes), dtype=np.float32).astype(np.uint8),\n",
    "    colormap = cv2.COLORMAP_RAINBOW,\n",
    ").squeeze()"
   ]
  },
  {
   "cell_type": "code",
   "execution_count": null,
   "id": "f72a8c2c",
   "metadata": {},
   "outputs": [],
   "source": []
  }
 ],
 "metadata": {
  "kernelspec": {
   "display_name": "Python 3",
   "language": "python",
   "name": "python3"
  },
  "language_info": {
   "codemirror_mode": {
    "name": "ipython",
    "version": 3
   },
   "file_extension": ".py",
   "mimetype": "text/x-python",
   "name": "python",
   "nbconvert_exporter": "python",
   "pygments_lexer": "ipython3",
   "version": "3.9.7"
  }
 },
 "nbformat": 4,
 "nbformat_minor": 5
}
